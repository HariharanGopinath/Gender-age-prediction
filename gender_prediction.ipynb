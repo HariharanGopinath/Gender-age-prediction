{
 "cells": [
  {
   "cell_type": "markdown",
   "id": "horizontal-validation",
   "metadata": {},
   "source": [
    "***Gender Classification with Python***\\\n",
    "*Machine Learning Project on Gender Classification with Python*"
   ]
  },
  {
   "cell_type": "markdown",
   "id": "dependent-publisher",
   "metadata": {},
   "source": [
    "In this article, I’ll walk you through a machine learning project on gender classification with the Python programming language."
   ]
  },
  {
   "cell_type": "markdown",
   "id": "dense-fiction",
   "metadata": {},
   "source": [
    "Dataset can be downloaded from kaggle website through the below link \\\n",
    "https://www.kaggle.com/ashishjangra27/gender-recognition-200k-images-celeba/download\n",
    "\n",
    "This dataset consist of thousands of images for the male and female for training, validating and testing our machine learning model"
   ]
  },
  {
   "cell_type": "markdown",
   "id": "prompt-terminal",
   "metadata": {},
   "source": [
    "In this project, I will use the some python libraries like **numpy, tensorflow and matplotlib** for building our machine learning model"
   ]
  },
  {
   "cell_type": "markdown",
   "id": "sunrise-rebel",
   "metadata": {},
   "source": [
    "**STEP-1 Importing the required libraries**"
   ]
  },
  {
   "cell_type": "code",
   "execution_count": 1,
   "id": "blond-mustang",
   "metadata": {},
   "outputs": [],
   "source": [
    "import os\n",
    "from tensorflow.keras import layers\n",
    "from tensorflow.keras import Model\n",
    "from tensorflow.keras.preprocessing.image import ImageDataGenerator\n",
    "import tensorflow as tf\n",
    "from keras.optimizers import Adam\n",
    "import matplotlib.pyplot as plt\n",
    "import numpy as np\n",
    "from keras.preprocessing import image"
   ]
  },
  {
   "cell_type": "markdown",
   "id": "productive-crash",
   "metadata": {},
   "source": [
    "**STEP-2 Extracting the images from the dataset and Pre-processing the Images for the standard sizes**"
   ]
  },
  {
   "cell_type": "markdown",
   "id": "elementary-equivalent",
   "metadata": {},
   "source": [
    "we are not going to be able to manually upload images that are all the exact same shape and form, especially if we are trying to gather tens of thousands of images \n",
    "So, we are going to do prepare the data for the model\n",
    "\n",
    "Keras actually has some functions that will automatically process the tons of data and generate a flow of batches from a directory, so it's called **ImageDataGenerator** and it's a part of prerocessing.\n",
    "\n",
    "With this ImageDataGenerator, we are going to do some slight changes to the images to make it standard before training it to our machine learning model"
   ]
  },
  {
   "cell_type": "code",
   "execution_count": 2,
   "id": "hearing-heater",
   "metadata": {},
   "outputs": [],
   "source": [
    "train_datagen = ImageDataGenerator(rescale = 1./255,rotation_range=40,width_shift_range=0.2,height_shift_range=0.2,shear_range=0.2,zoom_range=0.2,horizontal_flip=True,fill_mode='nearest')\n",
    "\n",
    "test_datagen = ImageDataGenerator( rescale = 1.0/255)\n",
    "\n",
    "\n"
   ]
  },
  {
   "cell_type": "markdown",
   "id": "modular-hepatitis",
   "metadata": {},
   "source": [
    "Next, we want to generate many manipulated images directly from a directory "
   ]
  },
  {
   "cell_type": "code",
   "execution_count": 4,
   "id": "minor-background",
   "metadata": {},
   "outputs": [
    {
     "name": "stdout",
     "output_type": "stream",
     "text": [
      "Found 160000 images belonging to 2 classes.\n"
     ]
    }
   ],
   "source": [
    "train_generator = train_datagen.flow_from_directory(\"Data/Train/\",\n",
    "                                                    batch_size =256 ,\n",
    "                                                    class_mode = 'binary', \n",
    "                                                    target_size = (64, 64))"
   ]
  },
  {
   "cell_type": "code",
   "execution_count": 35,
   "id": "average-acrobat",
   "metadata": {},
   "outputs": [
    {
     "name": "stdout",
     "output_type": "stream",
     "text": [
      "Found 22598 images belonging to 2 classes.\n"
     ]
    }
   ],
   "source": [
    "validation_generator =  test_datagen.flow_from_directory( \"Data/Validation/\",\n",
    "                                                          batch_size  = 256,\n",
    "                                                          class_mode  = 'binary', \n",
    "                                                          target_size = (64, 64))"
   ]
  },
  {
   "cell_type": "markdown",
   "id": "compressed-rogers",
   "metadata": {},
   "source": [
    "**STEP-3 Now we need to train and compile the deep neural network model for the task of Gender classification with Python**"
   ]
  },
  {
   "cell_type": "markdown",
   "id": "biological-dispatch",
   "metadata": {},
   "source": [
    "I have used a very simple convolutional neural network architecture. The network uses 5 convolutional layers, 2 fully connected layers and a final output layer. The details of the layers are given below.\n",
    "\n",
    "* Conv1 : The first convolutional layer has 96 nodes of kernel size 11.\n",
    "* Conv2 : The second conv layer has 256 nodes with kernel size 11\n",
    "* Conv3 : The third conv layer has 384 nodes with kernel size 3.\n",
    "* Conv4 : The third conv layer has 384 nodes with kernel size 3.\n",
    "* Conv5 : The third conv layer has 256 nodes with kernel size 3.\n",
    "* The two fully connected layers have 4096 nodes each."
   ]
  },
  {
   "cell_type": "code",
   "execution_count": 22,
   "id": "clear-sheep",
   "metadata": {},
   "outputs": [
    {
     "name": "stdout",
     "output_type": "stream",
     "text": [
      "Epoch 1/30\n",
      "30/30 [==============================] - 211s 7s/step - loss: 2.2511 - accuracy: 0.5579 - val_loss: 1.1503 - val_accuracy: 0.6053\n",
      "Epoch 2/30\n",
      "30/30 [==============================] - 280s 9s/step - loss: 0.6874 - accuracy: 0.5686 - val_loss: 0.6667 - val_accuracy: 0.6125\n",
      "Epoch 3/30\n",
      "30/30 [==============================] - 350s 12s/step - loss: 0.6742 - accuracy: 0.5971 - val_loss: 0.6670 - val_accuracy: 0.6160\n",
      "Epoch 4/30\n",
      "30/30 [==============================] - 365s 12s/step - loss: 0.6408 - accuracy: 0.6335 - val_loss: 0.6441 - val_accuracy: 0.6173\n",
      "Epoch 5/30\n",
      "30/30 [==============================] - 374s 12s/step - loss: 0.6010 - accuracy: 0.6882 - val_loss: 0.6731 - val_accuracy: 0.5885\n",
      "Epoch 6/30\n",
      "30/30 [==============================] - 368s 12s/step - loss: 0.5718 - accuracy: 0.7004 - val_loss: 0.5572 - val_accuracy: 0.7602\n",
      "Epoch 7/30\n",
      "30/30 [==============================] - 357s 12s/step - loss: 0.5710 - accuracy: 0.7040 - val_loss: 0.5566 - val_accuracy: 0.7174\n",
      "Epoch 8/30\n",
      "30/30 [==============================] - 348s 12s/step - loss: 0.5418 - accuracy: 0.7272 - val_loss: 0.5447 - val_accuracy: 0.7717\n",
      "Epoch 9/30\n",
      "30/30 [==============================] - 345s 11s/step - loss: 0.5310 - accuracy: 0.7355 - val_loss: 0.5470 - val_accuracy: 0.7163\n",
      "Epoch 10/30\n",
      "30/30 [==============================] - 348s 12s/step - loss: 0.5250 - accuracy: 0.7424 - val_loss: 0.6823 - val_accuracy: 0.5852\n",
      "Epoch 11/30\n",
      "30/30 [==============================] - 342s 11s/step - loss: 0.5184 - accuracy: 0.7424 - val_loss: 0.7688 - val_accuracy: 0.5022\n",
      "Epoch 12/30\n",
      "30/30 [==============================] - 346s 12s/step - loss: 0.4992 - accuracy: 0.7617 - val_loss: 0.4360 - val_accuracy: 0.8094\n",
      "Epoch 13/30\n",
      "30/30 [==============================] - 334s 11s/step - loss: 0.5083 - accuracy: 0.7576 - val_loss: 0.5790 - val_accuracy: 0.7319\n",
      "Epoch 14/30\n",
      "30/30 [==============================] - 317s 11s/step - loss: 0.4886 - accuracy: 0.7669 - val_loss: 0.4689 - val_accuracy: 0.7706\n",
      "Epoch 15/30\n",
      "30/30 [==============================] - 290s 10s/step - loss: 0.4736 - accuracy: 0.7753 - val_loss: 0.4155 - val_accuracy: 0.8198\n",
      "Epoch 16/30\n",
      "30/30 [==============================] - 289s 10s/step - loss: 0.4763 - accuracy: 0.7757 - val_loss: 0.4490 - val_accuracy: 0.7990\n",
      "Epoch 17/30\n",
      "30/30 [==============================] - 329s 11s/step - loss: 0.4828 - accuracy: 0.7721 - val_loss: 0.3939 - val_accuracy: 0.8182\n",
      "Epoch 18/30\n",
      "30/30 [==============================] - 331s 11s/step - loss: 0.4623 - accuracy: 0.7876 - val_loss: 0.4824 - val_accuracy: 0.7658\n",
      "Epoch 19/30\n",
      "30/30 [==============================] - 364s 12s/step - loss: 0.4758 - accuracy: 0.7745 - val_loss: 0.5070 - val_accuracy: 0.7388\n",
      "Epoch 20/30\n",
      "30/30 [==============================] - 369s 12s/step - loss: 0.4597 - accuracy: 0.7828 - val_loss: 0.4605 - val_accuracy: 0.7574\n",
      "Epoch 21/30\n",
      "30/30 [==============================] - 292s 10s/step - loss: 0.4398 - accuracy: 0.7941 - val_loss: 0.4182 - val_accuracy: 0.8027\n",
      "Epoch 22/30\n",
      "30/30 [==============================] - 297s 10s/step - loss: 0.4372 - accuracy: 0.7974 - val_loss: 0.5259 - val_accuracy: 0.7103\n",
      "Epoch 23/30\n",
      "30/30 [==============================] - 290s 10s/step - loss: 0.4360 - accuracy: 0.7961 - val_loss: 0.4434 - val_accuracy: 0.8049\n",
      "Epoch 24/30\n",
      "30/30 [==============================] - 289s 10s/step - loss: 0.4295 - accuracy: 0.7984 - val_loss: 0.4051 - val_accuracy: 0.8112\n",
      "Epoch 25/30\n",
      "30/30 [==============================] - 324s 11s/step - loss: 0.4156 - accuracy: 0.8085 - val_loss: 0.4653 - val_accuracy: 0.7887\n",
      "Epoch 26/30\n",
      "30/30 [==============================] - 295s 10s/step - loss: 0.4116 - accuracy: 0.8151 - val_loss: 0.3569 - val_accuracy: 0.8426\n",
      "Epoch 27/30\n",
      "30/30 [==============================] - 299s 10s/step - loss: 0.4203 - accuracy: 0.8112 - val_loss: 0.3372 - val_accuracy: 0.8549\n",
      "Epoch 28/30\n",
      "30/30 [==============================] - 260s 9s/step - loss: 0.4212 - accuracy: 0.8079 - val_loss: 0.3672 - val_accuracy: 0.8288\n",
      "Epoch 29/30\n",
      "30/30 [==============================] - 274s 9s/step - loss: 0.4057 - accuracy: 0.8160 - val_loss: 0.5666 - val_accuracy: 0.6924\n",
      "Epoch 30/30\n",
      "30/30 [==============================] - 266s 9s/step - loss: 0.4043 - accuracy: 0.8210 - val_loss: 0.3696 - val_accuracy: 0.8441\n"
     ]
    }
   ],
   "source": [
    "from keras.optimizers import Adam\n",
    "model = tf.keras.models.Sequential([\n",
    "    # 1st conv(input layers)\n",
    "  tf.keras.layers.Conv2D(96, (11,11),strides=(4,4), activation='relu', input_shape=(64, 64, 3)),\n",
    "  tf.keras.layers.BatchNormalization(),\n",
    "  tf.keras.layers.MaxPooling2D(2, strides=(2,2)),\n",
    "    # 2nd conv\n",
    "  tf.keras.layers.Conv2D(256, (11,11),strides=(1,1), activation='relu',padding=\"same\"),\n",
    "  tf.keras.layers.BatchNormalization(),\n",
    "     # 3rd conv\n",
    "  tf.keras.layers.Conv2D(384, (3,3),strides=(1,1), activation='relu',padding=\"same\"),\n",
    "  tf.keras.layers.BatchNormalization(),\n",
    "    # 4th conv\n",
    "  tf.keras.layers.Conv2D(384, (3,3),strides=(1,1), activation='relu',padding=\"same\"),\n",
    "  tf.keras.layers.BatchNormalization(),\n",
    "    # 5th Conv\n",
    "  tf.keras.layers.Conv2D(256, (3, 3), strides=(1, 1), activation='relu',padding=\"same\"),\n",
    "  tf.keras.layers.BatchNormalization(),\n",
    "  tf.keras.layers.MaxPooling2D(2, strides=(2, 2)),\n",
    "  # To Flatten layer\n",
    "  tf.keras.layers.Flatten(),\n",
    "  # To FC layer 1\n",
    "  tf.keras.layers.Dense(4096, activation='relu'),\n",
    "  tf.keras.layers.Dropout(0.5),\n",
    "  #To FC layer 2(output layers)\n",
    "  tf.keras.layers.Dense(4096, activation='relu'),\n",
    "  tf.keras.layers.Dropout(0.5),\n",
    "  tf.keras.layers.Dense(1, activation='sigmoid')\n",
    "  ])\n",
    "\n",
    "# parameters for training\n",
    "model.compile(\n",
    "    optimizer=Adam(lr=0.001), # learning rate for training\n",
    "    loss='binary_crossentropy', # we are using the binary because our classification is either male or female\n",
    "    metrics=['accuracy'] # to print the accuracy of our model during the training phase\n",
    "   )\n",
    "hist = model.fit_generator(generator=train_generator,\n",
    "                    validation_data=validation_generator,\n",
    "                    steps_per_epoch=30,\n",
    "                    validation_steps=30,\n",
    "                    epochs=30)\n",
    "\n"
   ]
  },
  {
   "cell_type": "code",
   "execution_count": 7,
   "id": "allied-photograph",
   "metadata": {},
   "outputs": [],
   "source": [
    "from keras.models import load_model\n",
    "model.save(\"gender_class2.h5\")"
   ]
  },
  {
   "cell_type": "markdown",
   "id": "accompanied-aberdeen",
   "metadata": {},
   "source": [
    "**Step-4 finding the accuracy of our model**\n",
    "\n"
   ]
  },
  {
   "cell_type": "markdown",
   "id": "violent-patrol",
   "metadata": {},
   "source": [
    "Before testing this model let’s have a look at how the model performs in terms of accuracy\n",
    "\n"
   ]
  },
  {
   "cell_type": "code",
   "execution_count": 23,
   "id": "studied-georgia",
   "metadata": {},
   "outputs": [
    {
     "data": {
      "image/png": "[encoded data removed]",
      "text/plain": [
       "<Figure size 432x288 with 1 Axes>"
      ]
     },
     "metadata": {
      "needs_background": "light"
     },
     "output_type": "display_data"
    },
    {
     "data": {
      "text/plain": [
       "<Figure size 432x288 with 0 Axes>"
      ]
     },
     "metadata": {},
     "output_type": "display_data"
    }
   ],
   "source": [
    "import matplotlib.pyplot as plt # to plot the graph\n",
    "acc = hist.history['accuracy']\n",
    "val_acc = hist.history['val_accuracy']\n",
    "loss = hist.history['loss']\n",
    "val_loss = hist.history['val_loss']\n",
    "\n",
    "epochs = range(len(acc))\n",
    "\n",
    "plt.plot(epochs, acc, 'r', label='Training accuracy')\n",
    "plt.plot(epochs, val_acc, 'b', label='Validation accuracy')\n",
    "plt.title('Training and validation accuracy')\n",
    "plt.legend(loc=0)\n",
    "plt.figure()\n",
    "plt.show()\n",
    "\n"
   ]
  },
  {
   "cell_type": "markdown",
   "id": "atmospheric-connectivity",
   "metadata": {},
   "source": [
    "We can see that model accuracy reaches around 80% during the training and the validation part"
   ]
  },
  {
   "cell_type": "code",
   "execution_count": 24,
   "id": "cloudy-emperor",
   "metadata": {},
   "outputs": [
    {
     "data": {
      "image/png": "[encoded data removed]",
      "text/plain": [
       "<Figure size 432x288 with 1 Axes>"
      ]
     },
     "metadata": {
      "needs_background": "light"
     },
     "output_type": "display_data"
    },
    {
     "data": {
      "text/plain": [
       "<Figure size 432x288 with 0 Axes>"
      ]
     },
     "metadata": {},
     "output_type": "display_data"
    }
   ],
   "source": [
    "plt.plot(epochs, loss, 'r', label='Training loss')\n",
    "plt.plot(epochs, val_loss, 'b', label='Validation loss')\n",
    "plt.title('Training and validation losses')\n",
    "plt.legend(loc=0)\n",
    "plt.figure()\n",
    "plt.show()\n"
   ]
  },
  {
   "cell_type": "markdown",
   "id": "ecological-terrorist",
   "metadata": {},
   "source": [
    "**Step-5 Testing the model**"
   ]
  },
  {
   "cell_type": "markdown",
   "id": "senior-mount",
   "metadata": {},
   "source": [
    "Now let’s test our neural network model in both the cases of male and female:\n",
    "\n"
   ]
  },
  {
   "cell_type": "code",
   "execution_count": 32,
   "id": "alleged-government",
   "metadata": {},
   "outputs": [
    {
     "name": "stdout",
     "output_type": "stream",
     "text": [
      "[0.]\n",
      " is a female\n"
     ]
    },
    {
     "data": {
      "text/plain": [
       "<matplotlib.image.AxesImage at 0x1591741ba30>"
      ]
     },
     "execution_count": 32,
     "metadata": {},
     "output_type": "execute_result"
    },
    {
     "data": {
      "image/png": "[encoded data removed]",
      "text/plain": [
       "<Figure size 432x288 with 1 Axes>"
      ]
     },
     "metadata": {
      "needs_background": "light"
     },
     "output_type": "display_data"
    }
   ],
   "source": [
    "\n",
    "from keras.preprocessing import image # to porcess the image\n",
    "\n",
    "# predicting images for female\n",
    "path = \"Data/Test/Female/160005.jpg\"\n",
    "\n",
    "img = image.load_img(path, target_size=(64, 64))\n",
    "x = image.img_to_array(img)\n",
    "x = np.expand_dims(x, axis=0)\n",
    "\n",
    "images = np.vstack([x])\n",
    "classes = model.predict(images, batch_size=1)\n",
    "print(classes[0])\n",
    "if classes[0]>0.5:\n",
    "    print(\"is a man\")\n",
    "else:\n",
    "    print( \" is a female\")\n",
    "plt.imshow(img)"
   ]
  },
  {
   "cell_type": "code",
   "execution_count": 33,
   "id": "international-bottle",
   "metadata": {},
   "outputs": [
    {
     "data": {
      "text/plain": [
       "array([[0.]], dtype=float32)"
      ]
     },
     "execution_count": 33,
     "metadata": {},
     "output_type": "execute_result"
    }
   ],
   "source": [
    "classes"
   ]
  },
  {
   "cell_type": "code",
   "execution_count": null,
   "id": "inappropriate-operator",
   "metadata": {},
   "outputs": [],
   "source": []
  },
  {
   "cell_type": "code",
   "execution_count": null,
   "id": "specific-contest",
   "metadata": {},
   "outputs": [],
   "source": []
  },
  {
   "cell_type": "code",
   "execution_count": null,
   "id": "saving-armor",
   "metadata": {},
   "outputs": [],
   "source": []
  }
 ],
 "metadata": {
  "kernelspec": {
   "display_name": "Python 3",
   "language": "python",
   "name": "python3"
  },
  "language_info": {
   "codemirror_mode": {
    "name": "ipython",
    "version": 3
   },
   "file_extension": ".py",
   "mimetype": "text/x-python",
   "name": "python",
   "nbconvert_exporter": "python",
   "pygments_lexer": "ipython3",
   "version": "3.8.8"
  }
 },
 "nbformat": 4,
 "nbformat_minor": 5
}
